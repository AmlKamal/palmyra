{
  "nbformat": 4,
  "nbformat_minor": 0,
  "metadata": {
    "colab": {
      "name": "CNN2.ipynb",
      "provenance": [],
      "collapsed_sections": [
        "_9zS5YxJZZWL",
        "q7VNbwtYoDzC",
        "-qScU3sQLzuQ",
        "J_1R3btQGWYl",
        "93YruGVVMp_v",
        "8T3FBW44Og4q",
        "n9asRtMsSP8p",
        "DTwg8f0ffjHp",
        "riljzTQm2FOY",
        "7nCZkzC9SU2-",
        "OYochSUOJ0I6"
      ],
      "machine_shape": "hm",
      "authorship_tag": "ABX9TyPjEmwuxw26MW5jBfFMhu7O",
      "include_colab_link": true
    },
    "kernelspec": {
      "name": "python3",
      "display_name": "Python 3"
    },
    "accelerator": "GPU"
  },
  "cells": [
    {
      "cell_type": "markdown",
      "metadata": {
        "id": "view-in-github",
        "colab_type": "text"
      },
      "source": [
        "<a href=\"https://colab.research.google.com/github/AmlKamal/palmyra/blob/master/CNN2.ipynb\" target=\"_parent\"><img src=\"https://colab.research.google.com/assets/colab-badge.svg\" alt=\"Open In Colab\"/></a>"
      ]
    },
    {
      "cell_type": "markdown",
      "metadata": {
        "id": "rOv62OoqU-4U",
        "colab_type": "text"
      },
      "source": [
        "### **Check OS**"
      ]
    },
    {
      "cell_type": "code",
      "metadata": {
        "id": "fQoWIBIy_utV",
        "colab_type": "code",
        "colab": {
          "base_uri": "https://localhost:8080/",
          "height": 102
        },
        "outputId": "d14f9bff-c8fc-4574-f96f-a5dd20acc91d"
      },
      "source": [
        "!lsb_release -a"
      ],
      "execution_count": null,
      "outputs": [
        {
          "output_type": "stream",
          "text": [
            "No LSB modules are available.\n",
            "Distributor ID:\tUbuntu\n",
            "Description:\tUbuntu 18.04.3 LTS\n",
            "Release:\t18.04\n",
            "Codename:\tbionic\n"
          ],
          "name": "stdout"
        }
      ]
    },
    {
      "cell_type": "code",
      "metadata": {
        "id": "I5U-jxDz_4X0",
        "colab_type": "code",
        "colab": {
          "base_uri": "https://localhost:8080/",
          "height": 479
        },
        "outputId": "1e6314aa-f924-47ab-90f8-ca4f54093b3e"
      },
      "source": [
        "!sudo apt install tree"
      ],
      "execution_count": null,
      "outputs": [
        {
          "output_type": "stream",
          "text": [
            "Reading package lists... Done\n",
            "Building dependency tree       \n",
            "Reading state information... Done\n",
            "The following package was automatically installed and is no longer required:\n",
            "  libnvidia-common-440\n",
            "Use 'sudo apt autoremove' to remove it.\n",
            "The following NEW packages will be installed:\n",
            "  tree\n",
            "0 upgraded, 1 newly installed, 0 to remove and 33 not upgraded.\n",
            "Need to get 40.7 kB of archives.\n",
            "After this operation, 105 kB of additional disk space will be used.\n",
            "Get:1 http://archive.ubuntu.com/ubuntu bionic/universe amd64 tree amd64 1.7.0-5 [40.7 kB]\n",
            "Fetched 40.7 kB in 1s (40.5 kB/s)\n",
            "debconf: unable to initialize frontend: Dialog\n",
            "debconf: (No usable dialog-like program is installed, so the dialog based frontend cannot be used. at /usr/share/perl5/Debconf/FrontEnd/Dialog.pm line 76, <> line 1.)\n",
            "debconf: falling back to frontend: Readline\n",
            "debconf: unable to initialize frontend: Readline\n",
            "debconf: (This frontend requires a controlling tty.)\n",
            "debconf: falling back to frontend: Teletype\n",
            "dpkg-preconfigure: unable to re-open stdin: \n",
            "Selecting previously unselected package tree.\n",
            "(Reading database ... 144379 files and directories currently installed.)\n",
            "Preparing to unpack .../tree_1.7.0-5_amd64.deb ...\n",
            "Unpacking tree (1.7.0-5) ...\n",
            "Setting up tree (1.7.0-5) ...\n",
            "Processing triggers for man-db (2.8.3-2ubuntu0.1) ...\n"
          ],
          "name": "stdout"
        }
      ]
    },
    {
      "cell_type": "markdown",
      "metadata": {
        "id": "pXAzjKkiopVo",
        "colab_type": "text"
      },
      "source": [
        "### Importing the dataset"
      ]
    },
    {
      "cell_type": "code",
      "metadata": {
        "id": "dlZkR6eDpZTK",
        "colab_type": "code",
        "colab": {}
      },
      "source": [
        "from google.colab import drive"
      ],
      "execution_count": null,
      "outputs": []
    },
    {
      "cell_type": "code",
      "metadata": {
        "id": "hMWEi5V5u4e1",
        "colab_type": "code",
        "colab": {
          "base_uri": "https://localhost:8080/",
          "height": 122
        },
        "outputId": "ff0c5ad5-a47a-49c3-e471-2eda91105d36"
      },
      "source": [
        "drive.mount('/content/drive')"
      ],
      "execution_count": null,
      "outputs": [
        {
          "output_type": "stream",
          "text": [
            "Go to this URL in a browser: https://accounts.google.com/o/oauth2/auth?client_id=947318989803-6bn6qk8qdgf4n4g3pfee6491hc0brc4i.apps.googleusercontent.com&redirect_uri=urn%3aietf%3awg%3aoauth%3a2.0%3aoob&response_type=code&scope=email%20https%3a%2f%2fwww.googleapis.com%2fauth%2fdocs.test%20https%3a%2f%2fwww.googleapis.com%2fauth%2fdrive%20https%3a%2f%2fwww.googleapis.com%2fauth%2fdrive.photos.readonly%20https%3a%2f%2fwww.googleapis.com%2fauth%2fpeopleapi.readonly\n",
            "\n",
            "Enter your authorization code:\n",
            "··········\n",
            "Mounted at /content/drive\n"
          ],
          "name": "stdout"
        }
      ]
    },
    {
      "cell_type": "markdown",
      "metadata": {
        "id": "fnDwNLI9VSuT",
        "colab_type": "text"
      },
      "source": [
        "### **View Dataset Details**"
      ]
    },
    {
      "cell_type": "code",
      "metadata": {
        "id": "R1u74vgiMu2C",
        "colab_type": "code",
        "colab": {
          "base_uri": "https://localhost:8080/",
          "height": 34
        },
        "outputId": "22207456-4514-4868-d77d-40c1cb9bcd40"
      },
      "source": [
        "ls \"/content/drive/My Drive/Malaria Detection /CNN/\""
      ],
      "execution_count": null,
      "outputs": [
        {
          "output_type": "stream",
          "text": [
            "\u001b[0m\u001b[01;34mParasitized\u001b[0m/  \u001b[01;34mUninfected\u001b[0m/\n"
          ],
          "name": "stdout"
        }
      ]
    },
    {
      "cell_type": "code",
      "metadata": {
        "id": "7Ye6bDQf_8kM",
        "colab_type": "code",
        "colab": {
          "base_uri": "https://localhost:8080/",
          "height": 102
        },
        "outputId": "03daf7df-890f-4781-a34d-367ed5b3d101"
      },
      "source": [
        "!tree --dirsfirst --filelimit 5 \"/content/drive/My Drive/Malaria Detection /CNN/\""
      ],
      "execution_count": null,
      "outputs": [
        {
          "output_type": "stream",
          "text": [
            "/content/drive/My Drive/Malaria Detection /CNN/\n",
            "├── Parasitized [error opening dir]\n",
            "└── Uninfected [13905 entries exceeds filelimit, not opening dir]\n",
            "\n",
            "2 directories, 0 files\n"
          ],
          "name": "stdout"
        }
      ]
    },
    {
      "cell_type": "code",
      "metadata": {
        "id": "l9RJ63_UAb24",
        "colab_type": "code",
        "colab": {
          "base_uri": "https://localhost:8080/",
          "height": 34
        },
        "outputId": "c2e77806-617f-4220-a496-187351b174d4"
      },
      "source": [
        "import os\n",
        "import glob\n",
        "\n",
        "base_dir = os.path.join('/content/drive/My Drive/Malaria Detection /CNN/')\n",
        "infected_dir = os.path.join(base_dir,'Parasitized')\n",
        "healthy_dir = os.path.join(base_dir,'Uninfected')\n",
        "\n",
        "infected_files = glob.glob(infected_dir+'/*.png')\n",
        "healthy_files = glob.glob(healthy_dir+'/*.png')\n",
        "len(infected_files), len(healthy_files)"
      ],
      "execution_count": null,
      "outputs": [
        {
          "output_type": "execute_result",
          "data": {
            "text/plain": [
              "(13864, 13904)"
            ]
          },
          "metadata": {
            "tags": []
          },
          "execution_count": 8
        }
      ]
    },
    {
      "cell_type": "code",
      "metadata": {
        "id": "aPcUpBPpAzol",
        "colab_type": "code",
        "colab": {
          "base_uri": "https://localhost:8080/",
          "height": 204
        },
        "outputId": "be3611af-6212-4458-b1dd-fcd9373e8baf"
      },
      "source": [
        "import numpy as np\n",
        "import pandas as pd\n",
        "\n",
        "np.random.seed(42)\n",
        "\n",
        "files_df = pd.DataFrame({\n",
        "    'filename': infected_files + healthy_files,\n",
        "    'label': ['malaria'] * len(infected_files) + ['healthy'] * len(healthy_files)\n",
        "}).sample(frac=1, random_state=42).reset_index(drop=True)\n",
        "\n",
        "files_df.head()"
      ],
      "execution_count": null,
      "outputs": [
        {
          "output_type": "execute_result",
          "data": {
            "text/html": [
              "<div>\n",
              "<style scoped>\n",
              "    .dataframe tbody tr th:only-of-type {\n",
              "        vertical-align: middle;\n",
              "    }\n",
              "\n",
              "    .dataframe tbody tr th {\n",
              "        vertical-align: top;\n",
              "    }\n",
              "\n",
              "    .dataframe thead th {\n",
              "        text-align: right;\n",
              "    }\n",
              "</style>\n",
              "<table border=\"1\" class=\"dataframe\">\n",
              "  <thead>\n",
              "    <tr style=\"text-align: right;\">\n",
              "      <th></th>\n",
              "      <th>filename</th>\n",
              "      <th>label</th>\n",
              "    </tr>\n",
              "  </thead>\n",
              "  <tbody>\n",
              "    <tr>\n",
              "      <th>0</th>\n",
              "      <td>/content/drive/My Drive/Malaria Detection /CNN...</td>\n",
              "      <td>malaria</td>\n",
              "    </tr>\n",
              "    <tr>\n",
              "      <th>1</th>\n",
              "      <td>/content/drive/My Drive/Malaria Detection /CNN...</td>\n",
              "      <td>malaria</td>\n",
              "    </tr>\n",
              "    <tr>\n",
              "      <th>2</th>\n",
              "      <td>/content/drive/My Drive/Malaria Detection /CNN...</td>\n",
              "      <td>healthy</td>\n",
              "    </tr>\n",
              "    <tr>\n",
              "      <th>3</th>\n",
              "      <td>/content/drive/My Drive/Malaria Detection /CNN...</td>\n",
              "      <td>malaria</td>\n",
              "    </tr>\n",
              "    <tr>\n",
              "      <th>4</th>\n",
              "      <td>/content/drive/My Drive/Malaria Detection /CNN...</td>\n",
              "      <td>healthy</td>\n",
              "    </tr>\n",
              "  </tbody>\n",
              "</table>\n",
              "</div>"
            ],
            "text/plain": [
              "                                            filename    label\n",
              "0  /content/drive/My Drive/Malaria Detection /CNN...  malaria\n",
              "1  /content/drive/My Drive/Malaria Detection /CNN...  malaria\n",
              "2  /content/drive/My Drive/Malaria Detection /CNN...  healthy\n",
              "3  /content/drive/My Drive/Malaria Detection /CNN...  malaria\n",
              "4  /content/drive/My Drive/Malaria Detection /CNN...  healthy"
            ]
          },
          "metadata": {
            "tags": []
          },
          "execution_count": 9
        }
      ]
    },
    {
      "cell_type": "markdown",
      "metadata": {
        "id": "4i_62DubBYNH",
        "colab_type": "text"
      },
      "source": [
        "## **Create Train, Validation and Test Datasets**"
      ]
    },
    {
      "cell_type": "code",
      "metadata": {
        "id": "BkJdvGq3BGgK",
        "colab_type": "code",
        "colab": {
          "base_uri": "https://localhost:8080/",
          "height": 85
        },
        "outputId": "c0276b17-852b-4182-bb97-a8c6602acb3d"
      },
      "source": [
        "from sklearn.model_selection import train_test_split\n",
        "from collections import Counter\n",
        "\n",
        "train_files, test_files, train_labels, test_labels = train_test_split(files_df['filename'].values,\n",
        "                                                                      files_df['label'].values, \n",
        "                                                                      test_size=0.3, random_state=42)\n",
        "train_files, val_files, train_labels, val_labels = train_test_split(train_files,\n",
        "                                                                    train_labels, \n",
        "                                                                    test_size=0.1, random_state=42)\n",
        "\n",
        "print(train_files.shape, val_files.shape, test_files.shape)\n",
        "print('Train:', Counter(train_labels), '\\nVal:', Counter(val_labels), '\\nTest:', Counter(test_labels))"
      ],
      "execution_count": null,
      "outputs": [
        {
          "output_type": "stream",
          "text": [
            "(17493,) (1944,) (8331,)\n",
            "Train: Counter({'healthy': 8789, 'malaria': 8704}) \n",
            "Val: Counter({'healthy': 974, 'malaria': 970}) \n",
            "Test: Counter({'malaria': 4190, 'healthy': 4141})\n"
          ],
          "name": "stdout"
        }
      ]
    },
    {
      "cell_type": "markdown",
      "metadata": {
        "id": "dkjfrW7hD9wU",
        "colab_type": "text"
      },
      "source": [
        "## **Get Image Dimension Summary Stats**"
      ]
    },
    {
      "cell_type": "code",
      "metadata": {
        "id": "Fjp3TtJuByWd",
        "colab_type": "code",
        "colab": {
          "base_uri": "https://localhost:8080/",
          "height": 187
        },
        "outputId": "8e5b6c53-7a96-4b16-a6be-57d6d91d208b"
      },
      "source": [
        "import cv2\n",
        "from concurrent import futures\n",
        "import threading\n",
        "\n",
        "def get_img_shape_parallel(idx, img, total_imgs):\n",
        "    if idx % 5000 == 0 or idx == (total_imgs - 1):\n",
        "        print('{}: working on img num: {}'.format(threading.current_thread().name,\n",
        "                                                  idx))\n",
        "    return cv2.imread(img).shape\n",
        "  \n",
        "ex = futures.ThreadPoolExecutor(max_workers=None)\n",
        "data_inp = [(idx, img, len(train_files)) for idx, img in enumerate(train_files)]\n",
        "print('Starting Img shape computation:')\n",
        "train_img_dims_map = ex.map(get_img_shape_parallel, \n",
        "                            [record[0] for record in data_inp],\n",
        "                            [record[1] for record in data_inp],\n",
        "                            [record[2] for record in data_inp])\n",
        "train_img_dims = list(train_img_dims_map)\n",
        "print('Min Dimensions:', np.min(train_img_dims, axis=0)) \n",
        "print('Avg Dimensions:', np.mean(train_img_dims, axis=0))\n",
        "print('Median Dimensions:', np.median(train_img_dims, axis=0))\n",
        "print('Max Dimensions:', np.max(train_img_dims, axis=0))"
      ],
      "execution_count": null,
      "outputs": [
        {
          "output_type": "stream",
          "text": [
            "Starting Img shape computation:\n",
            "ThreadPoolExecutor-0_0: working on img num: 0\n",
            "ThreadPoolExecutor-0_2: working on img num: 5000\n",
            "ThreadPoolExecutor-0_3: working on img num: 10000\n",
            "ThreadPoolExecutor-0_14: working on img num: 15000\n",
            "ThreadPoolExecutor-0_10: working on img num: 17492\n",
            "Min Dimensions: [40 46  3]\n",
            "Avg Dimensions: [133.07442977 132.44126222   3.        ]\n",
            "Median Dimensions: [130. 130.   3.]\n",
            "Max Dimensions: [385 394   3]\n"
          ],
          "name": "stdout"
        }
      ]
    },
    {
      "cell_type": "markdown",
      "metadata": {
        "id": "BD2k5haOELyc",
        "colab_type": "text"
      },
      "source": [
        "### **Load and Resize Images**"
      ]
    },
    {
      "cell_type": "code",
      "metadata": {
        "id": "vD7I10SiERM_",
        "colab_type": "code",
        "colab": {
          "base_uri": "https://localhost:8080/",
          "height": 289
        },
        "outputId": "9e1bbab3-ba98-4abb-dfca-3810d3fce6f8"
      },
      "source": [
        "IMG_DIMS = (125, 125)\n",
        "\n",
        "def get_img_data_parallel(idx, img, total_imgs):\n",
        "    if idx % 5000 == 0 or idx == (total_imgs - 1):\n",
        "        print('{}: working on img num: {}'.format(threading.current_thread().name,\n",
        "                                                  idx))\n",
        "    img = cv2.imread(img)\n",
        "    img = cv2.resize(img, dsize=IMG_DIMS, \n",
        "                     interpolation=cv2.INTER_CUBIC)\n",
        "    img = np.array(img, dtype=np.float32)\n",
        "    return img\n",
        "\n",
        "ex = futures.ThreadPoolExecutor(max_workers=None)\n",
        "train_data_inp = [(idx, img, len(train_files)) for idx, img in enumerate(train_files)]\n",
        "val_data_inp = [(idx, img, len(val_files)) for idx, img in enumerate(val_files)]\n",
        "test_data_inp = [(idx, img, len(test_files)) for idx, img in enumerate(test_files)]\n",
        "\n",
        "print('Loading Train Images:')\n",
        "train_data_map = ex.map(get_img_data_parallel, \n",
        "                        [record[0] for record in train_data_inp],\n",
        "                        [record[1] for record in train_data_inp],\n",
        "                        [record[2] for record in train_data_inp])\n",
        "train_data = np.array(list(train_data_map))\n",
        "\n",
        "print('\\nLoading Validation Images:')\n",
        "val_data_map = ex.map(get_img_data_parallel, \n",
        "                        [record[0] for record in val_data_inp],\n",
        "                        [record[1] for record in val_data_inp],\n",
        "                        [record[2] for record in val_data_inp])\n",
        "val_data = np.array(list(val_data_map))\n",
        "\n",
        "print('\\nLoading Test Images:')\n",
        "test_data_map = ex.map(get_img_data_parallel, \n",
        "                        [record[0] for record in test_data_inp],\n",
        "                        [record[1] for record in test_data_inp],\n",
        "                        [record[2] for record in test_data_inp])\n",
        "test_data = np.array(list(test_data_map))\n",
        "\n",
        "train_data.shape, val_data.shape, test_data.shape  "
      ],
      "execution_count": null,
      "outputs": [
        {
          "output_type": "stream",
          "text": [
            "Loading Train Images:\n",
            "ThreadPoolExecutor-1_0: working on img num: 0\n",
            "ThreadPoolExecutor-1_12: working on img num: 5000\n",
            "ThreadPoolExecutor-1_5: working on img num: 10000\n",
            "ThreadPoolExecutor-1_13: working on img num: 15000\n",
            "ThreadPoolExecutor-1_7: working on img num: 17492\n",
            "\n",
            "Loading Validation Images:\n",
            "ThreadPoolExecutor-1_1: working on img num: 0\n",
            "ThreadPoolExecutor-1_0: working on img num: 1943\n",
            "\n",
            "Loading Test Images:\n",
            "ThreadPoolExecutor-1_18: working on img num: 0\n",
            "ThreadPoolExecutor-1_17: working on img num: 5000\n",
            "ThreadPoolExecutor-1_18: working on img num: 8330\n"
          ],
          "name": "stdout"
        },
        {
          "output_type": "execute_result",
          "data": {
            "text/plain": [
              "((17493, 125, 125, 3), (1944, 125, 125, 3), (8331, 125, 125, 3))"
            ]
          },
          "metadata": {
            "tags": []
          },
          "execution_count": 12
        }
      ]
    },
    {
      "cell_type": "markdown",
      "metadata": {
        "id": "h0oiKI7BEj-N",
        "colab_type": "text"
      },
      "source": [
        "### **View Sample Cell Images**"
      ]
    },
    {
      "cell_type": "code",
      "metadata": {
        "id": "1pdRxpPzEtYW",
        "colab_type": "code",
        "colab": {
          "base_uri": "https://localhost:8080/",
          "height": 485
        },
        "outputId": "6f309c60-c5bf-4141-dcad-759284592446"
      },
      "source": [
        "import matplotlib.pyplot as plt\n",
        "%matplotlib inline\n",
        "\n",
        "plt.figure(1 , figsize = (8 , 8))\n",
        "n = 0 \n",
        "for i in range(16):\n",
        "    n += 1 \n",
        "    r = np.random.randint(0 , train_data.shape[0] , 1)\n",
        "    plt.subplot(4 , 4 , n)\n",
        "    plt.subplots_adjust(hspace = 0.5 , wspace = 0.5)\n",
        "    plt.imshow(train_data[r[0]]/255.)\n",
        "    plt.title('{}'.format(train_labels[r[0]]))\n",
        "    plt.xticks([]) , plt.yticks([])"
      ],
      "execution_count": null,
      "outputs": [
        {
          "output_type": "display_data",
          "data": {
            "image/png": "[encoded data removed]",
            "text/plain": [
              "<Figure size 576x576 with 16 Axes>"
            ]
          },
          "metadata": {
            "tags": []
          }
        }
      ]
    },
    {
      "cell_type": "markdown",
      "metadata": {
        "id": "2XWAg0Y5Ewzd",
        "colab_type": "text"
      },
      "source": [
        "### **Setup config settings, Scale Images & Label encode classes**"
      ]
    },
    {
      "cell_type": "code",
      "metadata": {
        "id": "IFPnMgBsE1on",
        "colab_type": "code",
        "colab": {
          "base_uri": "https://localhost:8080/",
          "height": 34
        },
        "outputId": "fbf12fd5-dbf8-403a-81e1-a7658287cc2f"
      },
      "source": [
        "BATCH_SIZE = 64\n",
        "NUM_CLASSES = 2\n",
        "EPOCHS = 6\n",
        "INPUT_SHAPE = (125, 125, 3)\n",
        "\n",
        "train_imgs_scaled = train_data / 255.\n",
        "val_imgs_scaled = val_data / 255.\n",
        "\n",
        "# encode text category labels\n",
        "from sklearn.preprocessing import LabelEncoder\n",
        "\n",
        "le = LabelEncoder()\n",
        "le.fit(train_labels)\n",
        "train_labels_enc = le.transform(train_labels)\n",
        "val_labels_enc = le.transform(val_labels)\n",
        "\n",
        "print(train_labels[:6], train_labels_enc[:6])"
      ],
      "execution_count": null,
      "outputs": [
        {
          "output_type": "stream",
          "text": [
            "['healthy' 'healthy' 'malaria' 'healthy' 'healthy' 'healthy'] [0 0 1 0 0 0]\n"
          ],
          "name": "stdout"
        }
      ]
    },
    {
      "cell_type": "code",
      "metadata": {
        "id": "k74EbLYgWUVI",
        "colab_type": "code",
        "colab": {
          "base_uri": "https://localhost:8080/",
          "height": 1000
        },
        "outputId": "56534cdf-1883-4898-ede2-fec2ad604975"
      },
      "source": [
        "!pip install tensorflow==2.0.0"
      ],
      "execution_count": null,
      "outputs": [
        {
          "output_type": "stream",
          "text": [
            "Collecting tensorflow==2.0.0\n",
            "\u001b[?25l  Downloading https://files.pythonhosted.org/packages/46/0f/7bd55361168bb32796b360ad15a25de6966c9c1beb58a8e30c01c8279862/tensorflow-2.0.0-cp36-cp36m-manylinux2010_x86_64.whl (86.3MB)\n",
            "\u001b[K     |████████████████████████████████| 86.3MB 34kB/s \n",
            "\u001b[?25hRequirement already satisfied: astor>=0.6.0 in /usr/local/lib/python3.6/dist-packages (from tensorflow==2.0.0) (0.8.1)\n",
            "Collecting tensorboard<2.1.0,>=2.0.0\n",
            "\u001b[?25l  Downloading https://files.pythonhosted.org/packages/76/54/99b9d5d52d5cb732f099baaaf7740403e83fe6b0cedde940fabd2b13d75a/tensorboard-2.0.2-py3-none-any.whl (3.8MB)\n",
            "\u001b[K     |████████████████████████████████| 3.8MB 66.7MB/s \n",
            "\u001b[?25hCollecting tensorflow-estimator<2.1.0,>=2.0.0\n",
            "\u001b[?25l  Downloading https://files.pythonhosted.org/packages/fc/08/8b927337b7019c374719145d1dceba21a8bb909b93b1ad6f8fb7d22c1ca1/tensorflow_estimator-2.0.1-py2.py3-none-any.whl (449kB)\n",
            "\u001b[K     |████████████████████████████████| 450kB 64.5MB/s \n",
            "\u001b[?25hRequirement already satisfied: protobuf>=3.6.1 in /usr/local/lib/python3.6/dist-packages (from tensorflow==2.0.0) (3.10.0)\n",
            "Requirement already satisfied: keras-preprocessing>=1.0.5 in /usr/local/lib/python3.6/dist-packages (from tensorflow==2.0.0) (1.1.2)\n",
            "Requirement already satisfied: six>=1.10.0 in /usr/local/lib/python3.6/dist-packages (from tensorflow==2.0.0) (1.12.0)\n",
            "Requirement already satisfied: grpcio>=1.8.6 in /usr/local/lib/python3.6/dist-packages (from tensorflow==2.0.0) (1.30.0)\n",
            "Requirement already satisfied: termcolor>=1.1.0 in /usr/local/lib/python3.6/dist-packages (from tensorflow==2.0.0) (1.1.0)\n",
            "Requirement already satisfied: wheel>=0.26 in /usr/local/lib/python3.6/dist-packages (from tensorflow==2.0.0) (0.34.2)\n",
            "Collecting gast==0.2.2\n",
            "  Downloading https://files.pythonhosted.org/packages/4e/35/11749bf99b2d4e3cceb4d55ca22590b0d7c2c62b9de38ac4a4a7f4687421/gast-0.2.2.tar.gz\n",
            "Requirement already satisfied: absl-py>=0.7.0 in /usr/local/lib/python3.6/dist-packages (from tensorflow==2.0.0) (0.9.0)\n",
            "Requirement already satisfied: opt-einsum>=2.3.2 in /usr/local/lib/python3.6/dist-packages (from tensorflow==2.0.0) (3.2.1)\n",
            "Requirement already satisfied: wrapt>=1.11.1 in /usr/local/lib/python3.6/dist-packages (from tensorflow==2.0.0) (1.12.1)\n",
            "Requirement already satisfied: keras-applications>=1.0.8 in /usr/local/lib/python3.6/dist-packages (from tensorflow==2.0.0) (1.0.8)\n",
            "Requirement already satisfied: numpy<2.0,>=1.16.0 in /usr/local/lib/python3.6/dist-packages (from tensorflow==2.0.0) (1.18.5)\n",
            "Requirement already satisfied: google-pasta>=0.1.6 in /usr/local/lib/python3.6/dist-packages (from tensorflow==2.0.0) (0.2.0)\n",
            "Requirement already satisfied: setuptools>=41.0.0 in /usr/local/lib/python3.6/dist-packages (from tensorboard<2.1.0,>=2.0.0->tensorflow==2.0.0) (47.3.1)\n",
            "Requirement already satisfied: google-auth<2,>=1.6.3 in /usr/local/lib/python3.6/dist-packages (from tensorboard<2.1.0,>=2.0.0->tensorflow==2.0.0) (1.17.2)\n",
            "Requirement already satisfied: werkzeug>=0.11.15 in /usr/local/lib/python3.6/dist-packages (from tensorboard<2.1.0,>=2.0.0->tensorflow==2.0.0) (1.0.1)\n",
            "Requirement already satisfied: requests<3,>=2.21.0 in /usr/local/lib/python3.6/dist-packages (from tensorboard<2.1.0,>=2.0.0->tensorflow==2.0.0) (2.23.0)\n",
            "Requirement already satisfied: markdown>=2.6.8 in /usr/local/lib/python3.6/dist-packages (from tensorboard<2.1.0,>=2.0.0->tensorflow==2.0.0) (3.2.2)\n",
            "Requirement already satisfied: google-auth-oauthlib<0.5,>=0.4.1 in /usr/local/lib/python3.6/dist-packages (from tensorboard<2.1.0,>=2.0.0->tensorflow==2.0.0) (0.4.1)\n",
            "Requirement already satisfied: h5py in /usr/local/lib/python3.6/dist-packages (from keras-applications>=1.0.8->tensorflow==2.0.0) (2.10.0)\n",
            "Requirement already satisfied: pyasn1-modules>=0.2.1 in /usr/local/lib/python3.6/dist-packages (from google-auth<2,>=1.6.3->tensorboard<2.1.0,>=2.0.0->tensorflow==2.0.0) (0.2.8)\n",
            "Requirement already satisfied: cachetools<5.0,>=2.0.0 in /usr/local/lib/python3.6/dist-packages (from google-auth<2,>=1.6.3->tensorboard<2.1.0,>=2.0.0->tensorflow==2.0.0) (4.1.0)\n",
            "Requirement already satisfied: rsa<5,>=3.1.4; python_version >= \"3\" in /usr/local/lib/python3.6/dist-packages (from google-auth<2,>=1.6.3->tensorboard<2.1.0,>=2.0.0->tensorflow==2.0.0) (4.6)\n",
            "Requirement already satisfied: chardet<4,>=3.0.2 in /usr/local/lib/python3.6/dist-packages (from requests<3,>=2.21.0->tensorboard<2.1.0,>=2.0.0->tensorflow==2.0.0) (3.0.4)\n",
            "Requirement already satisfied: urllib3!=1.25.0,!=1.25.1,<1.26,>=1.21.1 in /usr/local/lib/python3.6/dist-packages (from requests<3,>=2.21.0->tensorboard<2.1.0,>=2.0.0->tensorflow==2.0.0) (1.24.3)\n",
            "Requirement already satisfied: certifi>=2017.4.17 in /usr/local/lib/python3.6/dist-packages (from requests<3,>=2.21.0->tensorboard<2.1.0,>=2.0.0->tensorflow==2.0.0) (2020.6.20)\n",
            "Requirement already satisfied: idna<3,>=2.5 in /usr/local/lib/python3.6/dist-packages (from requests<3,>=2.21.0->tensorboard<2.1.0,>=2.0.0->tensorflow==2.0.0) (2.9)\n",
            "Requirement already satisfied: importlib-metadata; python_version < \"3.8\" in /usr/local/lib/python3.6/dist-packages (from markdown>=2.6.8->tensorboard<2.1.0,>=2.0.0->tensorflow==2.0.0) (1.6.1)\n",
            "Requirement already satisfied: requests-oauthlib>=0.7.0 in /usr/local/lib/python3.6/dist-packages (from google-auth-oauthlib<0.5,>=0.4.1->tensorboard<2.1.0,>=2.0.0->tensorflow==2.0.0) (1.3.0)\n",
            "Requirement already satisfied: pyasn1<0.5.0,>=0.4.6 in /usr/local/lib/python3.6/dist-packages (from pyasn1-modules>=0.2.1->google-auth<2,>=1.6.3->tensorboard<2.1.0,>=2.0.0->tensorflow==2.0.0) (0.4.8)\n",
            "Requirement already satisfied: zipp>=0.5 in /usr/local/lib/python3.6/dist-packages (from importlib-metadata; python_version < \"3.8\"->markdown>=2.6.8->tensorboard<2.1.0,>=2.0.0->tensorflow==2.0.0) (3.1.0)\n",
            "Requirement already satisfied: oauthlib>=3.0.0 in /usr/local/lib/python3.6/dist-packages (from requests-oauthlib>=0.7.0->google-auth-oauthlib<0.5,>=0.4.1->tensorboard<2.1.0,>=2.0.0->tensorflow==2.0.0) (3.1.0)\n",
            "Building wheels for collected packages: gast\n",
            "  Building wheel for gast (setup.py) ... \u001b[?25l\u001b[?25hdone\n",
            "  Created wheel for gast: filename=gast-0.2.2-cp36-none-any.whl size=7540 sha256=a353e76a76a41d6630a68a720eba6f6e1dc2c7bf106e992b0b93f1a3693c5066\n",
            "  Stored in directory: /root/.cache/pip/wheels/5c/2e/7e/a1d4d4fcebe6c381f378ce7743a3ced3699feb89bcfbdadadd\n",
            "Successfully built gast\n",
            "\u001b[31mERROR: tensorflow-probability 0.10.0 has requirement gast>=0.3.2, but you'll have gast 0.2.2 which is incompatible.\u001b[0m\n",
            "Installing collected packages: tensorboard, tensorflow-estimator, gast, tensorflow\n",
            "  Found existing installation: tensorboard 2.2.2\n",
            "    Uninstalling tensorboard-2.2.2:\n",
            "      Successfully uninstalled tensorboard-2.2.2\n",
            "  Found existing installation: tensorflow-estimator 2.2.0\n",
            "    Uninstalling tensorflow-estimator-2.2.0:\n",
            "      Successfully uninstalled tensorflow-estimator-2.2.0\n",
            "  Found existing installation: gast 0.3.3\n",
            "    Uninstalling gast-0.3.3:\n",
            "      Successfully uninstalled gast-0.3.3\n",
            "  Found existing installation: tensorflow 2.2.0\n",
            "    Uninstalling tensorflow-2.2.0:\n",
            "      Successfully uninstalled tensorflow-2.2.0\n",
            "Successfully installed gast-0.2.2 tensorboard-2.0.2 tensorflow-2.0.0 tensorflow-estimator-2.0.1\n"
          ],
          "name": "stdout"
        }
      ]
    },
    {
      "cell_type": "code",
      "metadata": {
        "id": "F3Y7UryMGTPC",
        "colab_type": "code",
        "colab": {
          "base_uri": "https://localhost:8080/",
          "height": 35
        },
        "outputId": "98ab4611-47ad-4725-82f9-975c172e5304"
      },
      "source": [
        "import tensorflow as tf\n",
        "\n",
        "# Load the TensorBoard notebook extension (optional)\n",
        "%load_ext tensorboard\n",
        "\n",
        "tf.random.set_seed(42)\n",
        "tf.__version__"
      ],
      "execution_count": null,
      "outputs": [
        {
          "output_type": "execute_result",
          "data": {
            "application/vnd.google.colaboratory.intrinsic": {
              "type": "string"
            },
            "text/plain": [
              "'2.0.0'"
            ]
          },
          "metadata": {
            "tags": []
          },
          "execution_count": 16
        }
      ]
    },
    {
      "cell_type": "markdown",
      "metadata": {
        "id": "R_9Idoy0Y9kz",
        "colab_type": "text"
      },
      "source": [
        "### **Model 1: CNN from Scratch**"
      ]
    },
    {
      "cell_type": "markdown",
      "metadata": {
        "id": "DTmcz4VSZC8C",
        "colab_type": "text"
      },
      "source": [
        "### **Build Model Architecture**"
      ]
    },
    {
      "cell_type": "code",
      "metadata": {
        "id": "L3uxxIenGyNN",
        "colab_type": "code",
        "colab": {
          "base_uri": "https://localhost:8080/",
          "height": 595
        },
        "outputId": "ed73274a-d087-4f74-e5a1-2dae1ea72a32"
      },
      "source": [
        "inp = tf.keras.layers.Input(shape=INPUT_SHAPE)\n",
        "\n",
        "conv1 = tf.keras.layers.Conv2D(32, kernel_size=(3, 3), \n",
        "                               activation='relu', padding='same')(inp)\n",
        "pool1 = tf.keras.layers.MaxPooling2D(pool_size=(2, 2))(conv1)\n",
        "\n",
        "conv2 = tf.keras.layers.Conv2D(64, kernel_size=(3, 3), \n",
        "                               activation='relu', padding='same')(pool1)\n",
        "pool2 = tf.keras.layers.MaxPooling2D(pool_size=(2, 2))(conv2)\n",
        "\n",
        "conv3 = tf.keras.layers.Conv2D(128, kernel_size=(3, 3), \n",
        "                               activation='relu', padding='same')(pool2)\n",
        "pool3 = tf.keras.layers.MaxPooling2D(pool_size=(2, 2))(conv3)\n",
        "\n",
        "flat = tf.keras.layers.Flatten()(pool3)\n",
        "\n",
        "hidden1 = tf.keras.layers.Dense(512, activation='relu')(flat)\n",
        "drop1 = tf.keras.layers.Dropout(rate=0.3)(hidden1)\n",
        "\n",
        "hidden2 = tf.keras.layers.Dense(512, activation='relu')(drop1)\n",
        "drop2 = tf.keras.layers.Dropout(rate=0.3)(hidden2)\n",
        "\n",
        "out = tf.keras.layers.Dense(1, activation='sigmoid')(drop2)\n",
        "\n",
        "model = tf.keras.Model(inputs=inp, outputs=out)\n",
        "model.compile(optimizer='adam',\n",
        "                loss='binary_crossentropy',\n",
        "                metrics=['accuracy'])\n",
        "model.summary()"
      ],
      "execution_count": null,
      "outputs": [
        {
          "output_type": "stream",
          "text": [
            "Model: \"model\"\n",
            "_________________________________________________________________\n",
            "Layer (type)                 Output Shape              Param #   \n",
            "=================================================================\n",
            "input_1 (InputLayer)         [(None, 125, 125, 3)]     0         \n",
            "_________________________________________________________________\n",
            "conv2d (Conv2D)              (None, 125, 125, 32)      896       \n",
            "_________________________________________________________________\n",
            "max_pooling2d (MaxPooling2D) (None, 62, 62, 32)        0         \n",
            "_________________________________________________________________\n",
            "conv2d_1 (Conv2D)            (None, 62, 62, 64)        18496     \n",
            "_________________________________________________________________\n",
            "max_pooling2d_1 (MaxPooling2 (None, 31, 31, 64)        0         \n",
            "_________________________________________________________________\n",
            "conv2d_2 (Conv2D)            (None, 31, 31, 128)       73856     \n",
            "_________________________________________________________________\n",
            "max_pooling2d_2 (MaxPooling2 (None, 15, 15, 128)       0         \n",
            "_________________________________________________________________\n",
            "flatten (Flatten)            (None, 28800)             0         \n",
            "_________________________________________________________________\n",
            "dense (Dense)                (None, 512)               14746112  \n",
            "_________________________________________________________________\n",
            "dropout (Dropout)            (None, 512)               0         \n",
            "_________________________________________________________________\n",
            "dense_1 (Dense)              (None, 512)               262656    \n",
            "_________________________________________________________________\n",
            "dropout_1 (Dropout)          (None, 512)               0         \n",
            "_________________________________________________________________\n",
            "dense_2 (Dense)              (None, 1)                 513       \n",
            "=================================================================\n",
            "Total params: 15,102,529\n",
            "Trainable params: 15,102,529\n",
            "Non-trainable params: 0\n",
            "_________________________________________________________________\n"
          ],
          "name": "stdout"
        }
      ]
    },
    {
      "cell_type": "markdown",
      "metadata": {
        "id": "tCQNGUQmTDCr",
        "colab_type": "text"
      },
      "source": [
        "**Image Augmentaion**\n"
      ]
    },
    {
      "cell_type": "code",
      "metadata": {
        "id": "J59F_c4bUW6a",
        "colab_type": "code",
        "colab": {}
      },
      "source": [
        "train_datagen = tf.keras.preprocessing.image.ImageDataGenerator(rescale=1./255,\n",
        "                                                                zoom_range=0.05, \n",
        "                                                                rotation_range=25,\n",
        "                                                                width_shift_range=0.05, \n",
        "                                                                height_shift_range=0.05, \n",
        "                                                                shear_range=0.05, horizontal_flip=True, \n",
        "                                                                fill_mode='nearest')\n",
        "\n",
        "val_datagen = tf.keras.preprocessing.image.ImageDataGenerator(rescale=1./255)"
      ],
      "execution_count": null,
      "outputs": []
    },
    {
      "cell_type": "code",
      "metadata": {
        "id": "X3UTRCrcUYF8",
        "colab_type": "code",
        "colab": {
          "base_uri": "https://localhost:8080/",
          "height": 222
        },
        "outputId": "a02792db-0922-4079-85ea-43c26f5911aa"
      },
      "source": [
        "img_id = 0\n",
        "sample_generator = train_datagen.flow(train_data[img_id:img_id+1], train_labels[img_id:img_id+1],\n",
        "                                      batch_size=1)\n",
        "sample = [next(sample_generator) for i in range(0,5)]\n",
        "fig, ax = plt.subplots(1,5, figsize=(16, 6))\n",
        "print('Labels:', [item[1][0] for item in sample])\n",
        "l = [ax[i].imshow(sample[i][0][0]) for i in range(0,5)]"
      ],
      "execution_count": null,
      "outputs": [
        {
          "output_type": "stream",
          "text": [
            "Labels: ['healthy', 'healthy', 'healthy', 'healthy', 'healthy']\n"
          ],
          "name": "stdout"
        },
        {
          "output_type": "display_data",
          "data": {
            "image/png": "[encoded data removed]",
            "text/plain": [
              "<Figure size 1152x432 with 5 Axes>"
            ]
          },
          "metadata": {
            "tags": [],
            "needs_background": "light"
          }
        }
      ]
    },
    {
      "cell_type": "code",
      "metadata": {
        "id": "v96rG7ETWeSV",
        "colab_type": "code",
        "colab": {}
      },
      "source": [
        "train_generator = train_datagen.flow(train_data, train_labels_enc, batch_size=BATCH_SIZE, shuffle=True)\n",
        "val_generator = val_datagen.flow(val_data, val_labels_enc, batch_size=BATCH_SIZE, shuffle=False)"
      ],
      "execution_count": null,
      "outputs": []
    },
    {
      "cell_type": "markdown",
      "metadata": {
        "id": "_9zS5YxJZZWL",
        "colab_type": "text"
      },
      "source": [
        "### **Train Model**"
      ]
    },
    {
      "cell_type": "code",
      "metadata": {
        "id": "alsi0ODzZgNI",
        "colab_type": "code",
        "colab": {
          "base_uri": "https://localhost:8080/",
          "height": 374
        },
        "outputId": "44a8bd41-028f-4d7a-95ab-bd64d42f9466"
      },
      "source": [
        "import datetime\n",
        "\n",
        "logdir = os.path.join('/home/dipanzan_sarkar/projects/tensorboard_logs', \n",
        "                      datetime.datetime.now().strftime(\"%Y%m%d-%H%M%S\"))\n",
        "tensorboard_callback = tf.keras.callbacks.TensorBoard(logdir, histogram_freq=1)\n",
        "reduce_lr = tf.keras.callbacks.ReduceLROnPlateau(monitor='val_loss', factor=0.5,\n",
        "                              patience=2, min_lr=0.000001)\n",
        "\n",
        "#early_stop = tf.keras.callbacks.EarlyStopping(monitor='val_loss', min_delta=0, patience=5, \n",
        "#                                              mode='auto', baseline=None, restore_best_weights=False)\n",
        "callbacks = [reduce_lr, tensorboard_callback]\n",
        "\n",
        "history = model.fit(x=train_imgs_scaled, y=train_labels_enc, \n",
        "                    batch_size=BATCH_SIZE,\n",
        "                    epochs=6, \n",
        "                    validation_data=(val_imgs_scaled, val_labels_enc), \n",
        "                    callbacks=callbacks,\n",
        "                    verbose=1)"
      ],
      "execution_count": null,
      "outputs": [
        {
          "output_type": "stream",
          "text": [
            "Train on 17493 samples, validate on 1944 samples\n",
            "Epoch 1/10\n",
            "17493/17493 [==============================] - 273s 16ms/sample - loss: 0.3939 - accuracy: 0.8197 - val_loss: 0.1822 - val_accuracy: 0.9434\n",
            "Epoch 2/10\n",
            "17493/17493 [==============================] - 270s 15ms/sample - loss: 0.1676 - accuracy: 0.9478 - val_loss: 0.1578 - val_accuracy: 0.9522\n",
            "Epoch 3/10\n",
            "17493/17493 [==============================] - 271s 15ms/sample - loss: 0.1366 - accuracy: 0.9567 - val_loss: 0.1380 - val_accuracy: 0.9532\n",
            "Epoch 4/10\n",
            "17493/17493 [==============================] - 266s 15ms/sample - loss: 0.1201 - accuracy: 0.9596 - val_loss: 0.1402 - val_accuracy: 0.9527\n",
            "Epoch 5/10\n",
            "17493/17493 [==============================] - 266s 15ms/sample - loss: 0.1071 - accuracy: 0.9640 - val_loss: 0.1320 - val_accuracy: 0.9583\n",
            "Epoch 6/10\n",
            "17493/17493 [==============================] - 266s 15ms/sample - loss: 0.0892 - accuracy: 0.9695 - val_loss: 0.1606 - val_accuracy: 0.9527\n",
            "Epoch 7/10\n",
            "17493/17493 [==============================] - 264s 15ms/sample - loss: 0.0767 - accuracy: 0.9752 - val_loss: 0.1472 - val_accuracy: 0.9501\n",
            "Epoch 8/10\n",
            "17493/17493 [==============================] - 257s 15ms/sample - loss: 0.0488 - accuracy: 0.9835 - val_loss: 0.1735 - val_accuracy: 0.9563\n",
            "Epoch 9/10\n",
            "17493/17493 [==============================] - 259s 15ms/sample - loss: 0.0334 - accuracy: 0.9892 - val_loss: 0.2229 - val_accuracy: 0.9475\n",
            "Epoch 10/10\n",
            "17493/17493 [==============================] - 259s 15ms/sample - loss: 0.0187 - accuracy: 0.9943 - val_loss: 0.2306 - val_accuracy: 0.9552\n"
          ],
          "name": "stdout"
        }
      ]
    },
    {
      "cell_type": "code",
      "metadata": {
        "id": "itCcAMO5eY-0",
        "colab_type": "code",
        "colab": {
          "base_uri": "https://localhost:8080/",
          "height": 308
        },
        "outputId": "8c050730-f88c-4c6e-99d1-e0ab71e44973"
      },
      "source": [
        "f, (ax1, ax2) = plt.subplots(1, 2, figsize=(12, 4))\n",
        "t = f.suptitle('Basic CNN Performance', fontsize=12)\n",
        "f.subplots_adjust(top=0.85, wspace=0.3)\n",
        "\n",
        "max_epoch = len(history.history['accuracy'])+1\n",
        "epoch_list = list(range(1,max_epoch))\n",
        "ax1.plot(epoch_list, history.history['accuracy'], label='Train Accuracy')\n",
        "ax1.plot(epoch_list, history.history['val_accuracy'], label='Validation Accuracy')\n",
        "ax1.set_xticks(np.arange(1, max_epoch, 1))\n",
        "ax1.set_ylabel('Accuracy Value')\n",
        "ax1.set_xlabel('Epoch')\n",
        "ax1.set_title('Accuracy')\n",
        "l1 = ax1.legend(loc=\"best\")\n",
        "\n",
        "ax2.plot(epoch_list, history.history['loss'], label='Train Loss')\n",
        "ax2.plot(epoch_list, history.history['val_loss'], label='Validation Loss')\n",
        "ax2.set_xticks(np.arange(1, max_epoch, 1))\n",
        "ax2.set_ylabel('Loss Value')\n",
        "ax2.set_xlabel('Epoch')\n",
        "ax2.set_title('Loss')\n",
        "l2 = ax2.legend(loc=\"best\")"
      ],
      "execution_count": null,
      "outputs": [
        {
          "output_type": "display_data",
          "data": {
            "image/png": "[encoded data removed]",
            "text/plain": [
              "<Figure size 864x288 with 2 Axes>"
            ]
          },
          "metadata": {
            "tags": [],
            "needs_background": "light"
          }
        }
      ]
    },
    {
      "cell_type": "markdown",
      "metadata": {
        "id": "N6mit0z2gqI_",
        "colab_type": "text"
      },
      "source": [
        "### **Save Model**"
      ]
    },
    {
      "cell_type": "code",
      "metadata": {
        "id": "jLbk7wT4gvXQ",
        "colab_type": "code",
        "colab": {}
      },
      "source": [
        "model.save('basic_aug_cnn2_10.h5')"
      ],
      "execution_count": null,
      "outputs": []
    },
    {
      "cell_type": "markdown",
      "metadata": {
        "id": "sgxyjGGywJMQ",
        "colab_type": "text"
      },
      "source": [
        "### **Transfar learning**"
      ]
    },
    {
      "cell_type": "code",
      "metadata": {
        "id": "Yha0raoD_zrd",
        "colab_type": "code",
        "colab": {}
      },
      "source": [
        "import tensorflow as tf"
      ],
      "execution_count": null,
      "outputs": []
    },
    {
      "cell_type": "code",
      "metadata": {
        "id": "JGkeoekewQOL",
        "colab_type": "code",
        "colab": {}
      },
      "source": [
        "from tensorflow.python.keras.layers import Dense\n",
        "from tensorflow.python.keras.models import Sequential "
      ],
      "execution_count": null,
      "outputs": []
    },
    {
      "cell_type": "code",
      "metadata": {
        "id": "2QrnGaJKwU6P",
        "colab_type": "code",
        "colab": {}
      },
      "source": [
        "weights_path = './basic_aug_cnn2_10.h5'\n",
        "num_classes = 2\n",
        "testing_model = Sequential()\n",
        "testing_model.add(basic_aug_cnn2_10(include_top=False,weights=weights_path,pooling='avg'))\n",
        "testing_model.add(Dense(num_classes,activation='softmax'))\n",
        "testing_model.layers[0].trainable = False"
      ],
      "execution_count": null,
      "outputs": []
    },
    {
      "cell_type": "code",
      "metadata": {
        "id": "6gbj2VTPxuhg",
        "colab_type": "code",
        "colab": {}
      },
      "source": [
        "testing_model.compile(optimizer='sgd',loss='categorical_crossentropy',metrics=['accuracy'])"
      ],
      "execution_count": null,
      "outputs": []
    },
    {
      "cell_type": "code",
      "metadata": {
        "id": "RO8w6Yz6zJid",
        "colab_type": "code",
        "colab": {}
      },
      "source": [
        "from tenserflow.python.keras.preprocessing.image import ImageDataGenrator\n",
        "data_generator = ImageDataGenerator(preprocessing_function=preprocess_input)"
      ],
      "execution_count": null,
      "outputs": []
    },
    {
      "cell_type": "code",
      "metadata": {
        "id": "hnLYlwz91BaT",
        "colab_type": "code",
        "colab": {}
      },
      "source": [
        "train_generator = data_generator.flow_from_directory(\n",
        "                                'google drive path for traning file',\n",
        "                                target_size=(image_size,image_size),\n",
        "                                batch_size=12,\n",
        "                                class_mode='categorical')"
      ],
      "execution_count": null,
      "outputs": []
    },
    {
      "cell_type": "code",
      "metadata": {
        "id": "7K8yYIPd2EwP",
        "colab_type": "code",
        "colab": {}
      },
      "source": [
        "validation_generator = data_generator.flow_from_directory(\n",
        "                                'google drive path for validation file',\n",
        "                                target_size=(image_size,image_size),\n",
        "                                batch_size=20,\n",
        "                                class_mode='categorical')"
      ],
      "execution_count": null,
      "outputs": []
    },
    {
      "cell_type": "code",
      "metadata": {
        "id": "4vM9Nd5B2aLf",
        "colab_type": "code",
        "colab": {}
      },
      "source": [
        "testing_model.fit_generator(train_generator,\n",
        "                            steps_per_epoch=6,\n",
        "                            validation_date=validation_generator,\n",
        "                            validation_steps=1)"
      ],
      "execution_count": null,
      "outputs": []
    },
    {
      "cell_type": "code",
      "metadata": {
        "id": "7v-0nF-T3W6p",
        "colab_type": "code",
        "colab": {}
      },
      "source": [
        "model.save('transfer_learning.h5')"
      ],
      "execution_count": null,
      "outputs": []
    },
    {
      "cell_type": "markdown",
      "metadata": {
        "id": "1zRDf4FJUzf-",
        "colab_type": "text"
      },
      "source": [
        "### preparing for the evaluation "
      ]
    },
    {
      "cell_type": "code",
      "metadata": {
        "colab_type": "code",
        "id": "7Q5jn1aP8by6",
        "colab": {
          "base_uri": "https://localhost:8080/",
          "height": 180
        },
        "outputId": "41263672-570e-4fb8-daea-0babc99b9b75"
      },
      "source": [
        "test_imgs_scaled = test_data / 255.\n",
        "test_imgs_scaled.shape, test_labels.shape\n"
      ],
      "execution_count": null,
      "outputs": [
        {
          "output_type": "error",
          "ename": "NameError",
          "evalue": "ignored",
          "traceback": [
            "\u001b[0;31m---------------------------------------------------------------------------\u001b[0m",
            "\u001b[0;31mNameError\u001b[0m                                 Traceback (most recent call last)",
            "\u001b[0;32m<ipython-input-5-7e2d268e357b>\u001b[0m in \u001b[0;36m<module>\u001b[0;34m()\u001b[0m\n\u001b[0;32m----> 1\u001b[0;31m \u001b[0mtest_imgs_scaled\u001b[0m \u001b[0;34m=\u001b[0m \u001b[0mtest_data\u001b[0m \u001b[0;34m/\u001b[0m \u001b[0;36m255.\u001b[0m\u001b[0;34m\u001b[0m\u001b[0;34m\u001b[0m\u001b[0m\n\u001b[0m\u001b[1;32m      2\u001b[0m \u001b[0mtest_imgs_scaled\u001b[0m\u001b[0;34m.\u001b[0m\u001b[0mshape\u001b[0m\u001b[0;34m,\u001b[0m \u001b[0mtest_labels\u001b[0m\u001b[0;34m.\u001b[0m\u001b[0mshape\u001b[0m\u001b[0;34m\u001b[0m\u001b[0;34m\u001b[0m\u001b[0m\n",
            "\u001b[0;31mNameError\u001b[0m: name 'test_data' is not defined"
          ]
        }
      ]
    },
    {
      "cell_type": "code",
      "metadata": {
        "id": "jFK-OR0Hy7Vo",
        "colab_type": "code",
        "colab": {
          "base_uri": "https://localhost:8080/",
          "height": 34
        },
        "outputId": "5489d29d-6609-4efa-9cf4-4ab35145361e"
      },
      "source": [
        "len(test_data)"
      ],
      "execution_count": null,
      "outputs": [
        {
          "output_type": "execute_result",
          "data": {
            "text/plain": [
              "8331"
            ]
          },
          "metadata": {
            "tags": []
          },
          "execution_count": 45
        }
      ]
    },
    {
      "cell_type": "code",
      "metadata": {
        "colab_type": "code",
        "id": "HoQ0iCtr8by_",
        "colab": {
          "base_uri": "https://localhost:8080/",
          "height": 34
        },
        "outputId": "5b95a1f0-1c85-4440-e958-1e03a6bf59ee"
      },
      "source": [
        "! ls -l --block-size=MB | grep .h5"
      ],
      "execution_count": null,
      "outputs": [
        {
          "output_type": "stream",
          "text": [
            "-rw-r--r-- 1 root root 182MB Jul  3 17:12 basic_aug_cnn2.h5\n"
          ],
          "name": "stdout"
        }
      ]
    },
    {
      "cell_type": "code",
      "metadata": {
        "colab_type": "code",
        "id": "r-Ccr7i68bzD",
        "colab": {}
      },
      "source": [
        "basic_cnn = tf.keras.models.load_model('./basic_aug_cnn2.h5')"
      ],
      "execution_count": null,
      "outputs": []
    },
    {
      "cell_type": "code",
      "metadata": {
        "id": "CvOFTO_HHVYK",
        "colab_type": "code",
        "colab": {}
      },
      "source": [
        "basic_cnn_preds = basic_cnn.predict(test_imgs_scaled, batch_size=512)\n",
        "\n",
        "basic_cnn_pred_labels = le.inverse_transform([1 if pred > 0.5 else 0 \n",
        "                                                  for pred in basic_cnn_preds.ravel()])"
      ],
      "execution_count": null,
      "outputs": []
    },
    {
      "cell_type": "markdown",
      "metadata": {
        "id": "q7VNbwtYoDzC",
        "colab_type": "text"
      },
      "source": [
        "### **Parasitima level**"
      ]
    },
    {
      "cell_type": "code",
      "metadata": {
        "id": "eV_nSgQVkIu1",
        "colab_type": "code",
        "colab": {
          "base_uri": "https://localhost:8080/"
        },
        "outputId": "c484ac83-1121-442f-da76-6361e16570cd"
      },
      "source": [
        "cnn_preds_parasitimia = basic_cnn.predict(test_imgs_scaled, batch_size=512)\n",
        "para_counter=0\n",
        "sum = 0 \n",
        "for i in  cnn_preds_parasitimia.ravel():\n",
        "  if i > 0.5:\n",
        "    para_counter=para_counter+1\n",
        "  sum = sum+1\n",
        "  if sum == 500:\n",
        "    break\n",
        "precentage = (para_counter/sum)*100\n",
        "print ('number of infected cells ', para_counter)\n",
        "print ('number of infected cells ',sum)\n",
        "print ('Parasitimia' , precentage)\n"
      ],
      "execution_count": null,
      "outputs": [
        {
          "output_type": "stream",
          "text": [
            "number of infected cells  245\n",
            "number of infected cells  500\n",
            "Parasitimia 49.0\n"
          ],
          "name": "stdout"
        }
      ]
    },
    {
      "cell_type": "markdown",
      "metadata": {
        "id": "-qScU3sQLzuQ",
        "colab_type": "text"
      },
      "source": [
        "### Confusion matrix "
      ]
    },
    {
      "cell_type": "code",
      "metadata": {
        "id": "OPV_VRUDMAEl",
        "colab_type": "code",
        "colab": {}
      },
      "source": [
        "from sklearn.metrics import confusion_matrix \n",
        "from sklearn.metrics import accuracy_score \n",
        "from sklearn.metrics import classification_report \n",
        "\n"
      ],
      "execution_count": null,
      "outputs": []
    },
    {
      "cell_type": "code",
      "metadata": {
        "id": "lc5-dnfrOgnE",
        "colab_type": "code",
        "colab": {
          "base_uri": "https://localhost:8080/"
        },
        "outputId": "c6c1021e-1db7-47f3-deac-595ae2f45407"
      },
      "source": [
        "cf_matrix = confusion_matrix(test_labels,basic_cnn_pred_labels)\n",
        "print(cf_matrix)\n",
        "\n",
        "specificity = cf_matrix[1,1]/(cf_matrix[1,0]+cf_matrix[1,1])\n",
        "print (specificity)"
      ],
      "execution_count": null,
      "outputs": [
        {
          "output_type": "stream",
          "text": [
            "[[3957  184]\n",
            " [ 214 3976]]\n",
            "0.948926014319809\n"
          ],
          "name": "stdout"
        }
      ]
    },
    {
      "cell_type": "code",
      "metadata": {
        "id": "VEwfAIaNT3bL",
        "colab_type": "code",
        "colab": {
          "base_uri": "https://localhost:8080/"
        },
        "outputId": "57aa651a-df21-4c08-ccba-81efdfaf638b"
      },
      "source": [
        "import seaborn as sns\n",
        "sns.heatmap(cf_matrix/np.sum(cf_matrix), annot=True, \n",
        "            fmt='.2%', cmap='Blues')"
      ],
      "execution_count": null,
      "outputs": [
        {
          "output_type": "stream",
          "text": [
            "/usr/local/lib/python3.6/dist-packages/statsmodels/tools/_testing.py:19: FutureWarning: pandas.util.testing is deprecated. Use the functions in the public API at pandas.testing instead.\n",
            "  import pandas.util.testing as tm\n"
          ],
          "name": "stderr"
        },
        {
          "output_type": "execute_result",
          "data": {
            "text/plain": [
              "<matplotlib.axes._subplots.AxesSubplot at 0x7f263232f240>"
            ]
          },
          "metadata": {
            "tags": []
          },
          "execution_count": 31
        },
        {
          "output_type": "display_data",
          "data": {
            "image/png": "[encoded data removed]",
            "text/plain": [
              "<Figure size 432x288 with 2 Axes>"
            ]
          },
          "metadata": {
            "tags": [],
            "needs_background": "light"
          }
        }
      ]
    },
    {
      "cell_type": "markdown",
      "metadata": {
        "id": "J_1R3btQGWYl",
        "colab_type": "text"
      },
      "source": [
        "### Accuracy "
      ]
    },
    {
      "cell_type": "code",
      "metadata": {
        "id": "dK0lwOzdGnXc",
        "colab_type": "code",
        "colab": {}
      },
      "source": [
        "from sklearn.metrics import accuracy_score\n",
        "accuracy=accuracy_score(test_labels,basic_cnn_pred_labels)"
      ],
      "execution_count": null,
      "outputs": []
    },
    {
      "cell_type": "code",
      "metadata": {
        "id": "0pw0A0eyJB7r",
        "colab_type": "code",
        "colab": {
          "base_uri": "https://localhost:8080/"
        },
        "outputId": "32479351-e6a1-41e2-b3d9-a4c6e6fd2cf2"
      },
      "source": [
        "Error_rate=1-(accuracy)\n",
        "\n",
        "print(Error_rate)\n",
        "\n",
        "#print(Error_rate*100)\n"
      ],
      "execution_count": null,
      "outputs": [
        {
          "output_type": "stream",
          "text": [
            "0.04777337654543268\n"
          ],
          "name": "stdout"
        }
      ]
    },
    {
      "cell_type": "markdown",
      "metadata": {
        "id": "93YruGVVMp_v",
        "colab_type": "text"
      },
      "source": [
        "### precision"
      ]
    },
    {
      "cell_type": "code",
      "metadata": {
        "id": "1xwgOFblMmLT",
        "colab_type": "code",
        "colab": {
          "base_uri": "https://localhost:8080/"
        },
        "outputId": "d7f32fc2-f2d7-479b-f335-08001261f548"
      },
      "source": [
        "from sklearn.metrics import precision_score\n",
        "positive = precision_score(test_labels,basic_cnn_pred_labels,pos_label='healthy')\n",
        "print(positive)"
      ],
      "execution_count": null,
      "outputs": [
        {
          "output_type": "stream",
          "text": [
            "0.948693358906737\n"
          ],
          "name": "stdout"
        }
      ]
    },
    {
      "cell_type": "code",
      "metadata": {
        "id": "XITuenVvNWIR",
        "colab_type": "code",
        "colab": {
          "base_uri": "https://localhost:8080/"
        },
        "outputId": "592712f3-9863-4442-a477-e462de47d847"
      },
      "source": [
        "negative = precision_score(test_labels,basic_cnn_pred_labels,pos_label='malaria')\n",
        "print(negative)"
      ],
      "execution_count": null,
      "outputs": [
        {
          "output_type": "stream",
          "text": [
            "0.9557692307692308\n"
          ],
          "name": "stdout"
        }
      ]
    },
    {
      "cell_type": "markdown",
      "metadata": {
        "id": "8T3FBW44Og4q",
        "colab_type": "text"
      },
      "source": [
        "### recall"
      ]
    },
    {
      "cell_type": "code",
      "metadata": {
        "id": "mBYqUjqoOhxm",
        "colab_type": "code",
        "colab": {
          "base_uri": "https://localhost:8080/"
        },
        "outputId": "c93ae816-5fbc-4005-bd59-b6370420c760"
      },
      "source": [
        "from sklearn.metrics import recall_score\n",
        "positive = recall_score(test_labels,basic_cnn_pred_labels,pos_label='healthy')\n",
        "print(positive)"
      ],
      "execution_count": null,
      "outputs": [
        {
          "output_type": "stream",
          "text": [
            "0.9555662883361506\n"
          ],
          "name": "stdout"
        }
      ]
    },
    {
      "cell_type": "code",
      "metadata": {
        "id": "-ZKJGbYJPUIz",
        "colab_type": "code",
        "colab": {
          "base_uri": "https://localhost:8080/"
        },
        "outputId": "bd08c2c9-ca53-4266-92df-66b9de3da315"
      },
      "source": [
        "negative = recall_score(test_labels,basic_cnn_pred_labels,pos_label='malaria')\n",
        "print(negative)"
      ],
      "execution_count": null,
      "outputs": [
        {
          "output_type": "stream",
          "text": [
            "0.948926014319809\n"
          ],
          "name": "stdout"
        }
      ]
    },
    {
      "cell_type": "markdown",
      "metadata": {
        "id": "n9asRtMsSP8p",
        "colab_type": "text"
      },
      "source": [
        "### f1_score"
      ]
    },
    {
      "cell_type": "code",
      "metadata": {
        "id": "zR-6YsYjQXX_",
        "colab_type": "code",
        "colab": {
          "base_uri": "https://localhost:8080/"
        },
        "outputId": "104bd675-dc28-4590-c57b-af7bb8074389"
      },
      "source": [
        "from sklearn.metrics import f1_score\n",
        "postive = f1_score(test_labels,basic_cnn_pred_labels,pos_label='healthy')\n",
        "print(postive)"
      ],
      "execution_count": null,
      "outputs": [
        {
          "output_type": "stream",
          "text": [
            "0.9521174205967277\n"
          ],
          "name": "stdout"
        }
      ]
    },
    {
      "cell_type": "code",
      "metadata": {
        "id": "fzsLPbzDQurs",
        "colab_type": "code",
        "colab": {
          "base_uri": "https://localhost:8080/"
        },
        "outputId": "4b7b21ee-33f6-4fdd-f046-fdd8a2414f40"
      },
      "source": [
        "negative = f1_score(test_labels,basic_cnn_pred_labels,pos_label='malaria')\n",
        "print(negative)"
      ],
      "execution_count": null,
      "outputs": [
        {
          "output_type": "stream",
          "text": [
            "0.9523353293413173\n"
          ],
          "name": "stdout"
        }
      ]
    },
    {
      "cell_type": "markdown",
      "metadata": {
        "id": "DTwg8f0ffjHp",
        "colab_type": "text"
      },
      "source": [
        "### **specificity**"
      ]
    },
    {
      "cell_type": "code",
      "metadata": {
        "id": "9qjlc6IxeQGA",
        "colab_type": "code",
        "colab": {
          "base_uri": "https://localhost:8080/"
        },
        "outputId": "1092b985-39dc-49a8-eed1-e3296a050a61"
      },
      "source": [
        "specificity = cf_matrix[1,1]/(cf_matrix[1,0]+cf_matrix[1,1])\n",
        "print (specificity)"
      ],
      "execution_count": null,
      "outputs": [
        {
          "output_type": "stream",
          "text": [
            "0.948926014319809\n"
          ],
          "name": "stdout"
        }
      ]
    },
    {
      "cell_type": "markdown",
      "metadata": {
        "id": "riljzTQm2FOY",
        "colab_type": "text"
      },
      "source": [
        "### **ROC**"
      ]
    },
    {
      "cell_type": "code",
      "metadata": {
        "id": "rSMqKUqXTTYk",
        "colab_type": "code",
        "colab": {}
      },
      "source": [
        "import scikitplot as skplt\n",
        "import matplotlib.pyplot as plt"
      ],
      "execution_count": null,
      "outputs": []
    },
    {
      "cell_type": "code",
      "metadata": {
        "id": "apltQQR0TUZ_",
        "colab_type": "code",
        "colab": {}
      },
      "source": [
        "from sklearn.metrics import roc_curve\n",
        "from sklearn.metrics import roc_auc_score\n",
        "from matplotlib import pyplot\n",
        "import sklearn.metrics as metrics\n",
        "#probs = model.predict_proba(X_test)\n",
        "#preds = basic_cnn_pred_labels[:,1]\n",
        "fpr, tpr, threshold = metrics.roc_curve(test_labels[:,1],basic_cnn_pred_labels[:,1])\n",
        "roc_auc = metrics.auc(fpr, tpr)\n",
        "\n",
        "#TPR = TP/(TP+FN) recall \n",
        "#from sklearn.metrics import recall_score\n",
        "#tpr = recall_score(test_labels,basic_cnn_pred_labels,pos_label='healthy')\n",
        "#print('tpr',tpr)\n",
        "#FPR = FP/(FP+TN) False negative rate [fix]\n",
        "#fpr = cf_matrix[1,1]/(cf_matrix[1,0]+cf_matrix[1,1])\n",
        "#print (fpr)\n",
        "\n",
        "\n",
        "fpr, tpr, _ = roc_curve(test_labels,basic_cnn_pred_labels,pos_label='healthy')\n",
        "#skplt.metrics.plot_roc_curve(fpr, tpr)\n",
        "#plt.plot(fpr, tpr)\n",
        "#plt.show()\n",
        "\n",
        "#x = # false_positive_rate\n",
        "#y = # true_positive_rate "
      ],
      "execution_count": null,
      "outputs": []
    },
    {
      "cell_type": "code",
      "metadata": {
        "id": "c6unI4auTvgt",
        "colab_type": "code",
        "colab": {}
      },
      "source": [
        "!pip install scikit-plot"
      ],
      "execution_count": null,
      "outputs": []
    },
    {
      "cell_type": "code",
      "metadata": {
        "id": "Rh-YzMM72Hso",
        "colab_type": "code",
        "colab": {}
      },
      "source": [
        "from sklearn.metrics import roc_auc_score\n",
        "roc_auc_score(test_labels,basic_cnn_pred_labels)\n"
      ],
      "execution_count": null,
      "outputs": []
    },
    {
      "cell_type": "markdown",
      "metadata": {
        "id": "7nCZkzC9SU2-",
        "colab_type": "text"
      },
      "source": [
        "### **classification report**"
      ]
    },
    {
      "cell_type": "code",
      "metadata": {
        "id": "KKtDWAqCQBXJ",
        "colab_type": "code",
        "colab": {}
      },
      "source": [
        "from sklearn.metrics import classification_report\n",
        "report = classification_report(test_labels,basic_cnn_pred_labels)\n",
        "print(report)"
      ],
      "execution_count": null,
      "outputs": []
    },
    {
      "cell_type": "markdown",
      "metadata": {
        "id": "QqmcHeRxUb2w",
        "colab_type": "text"
      },
      "source": [
        "**وااااااااااااااااااااااااااااااااااااااااااااااااااااي**"
      ]
    },
    {
      "cell_type": "markdown",
      "metadata": {
        "id": "OYochSUOJ0I6",
        "colab_type": "text"
      },
      "source": [
        "### **Testing the model on actual data**"
      ]
    },
    {
      "cell_type": "code",
      "metadata": {
        "id": "nqBwBn92iEym",
        "colab_type": "code",
        "colab": {}
      },
      "source": [
        "#import os\n",
        "#import glob\n",
        "#import cv2\n",
        "#img_dir = os.path.join('/content/drive/My Drive/Malaria Detection /test/')\n",
        "#data_path = os.path.join(img_dir,'*g')\n",
        "#files = glob.glob(data_path)\n",
        "#images = []\n",
        "#for f1 in files:\n",
        "#  img = cv2.imread(f1)\n",
        "#  images.append(img)"
      ],
      "execution_count": null,
      "outputs": []
    },
    {
      "cell_type": "code",
      "metadata": {
        "id": "Bdt8qUfoL0nN",
        "colab_type": "code",
        "colab": {}
      },
      "source": [
        "#from google.colab import files\n",
        "#uploaded = files.upload()\n",
        "#import cv2 "
      ],
      "execution_count": null,
      "outputs": []
    },
    {
      "cell_type": "code",
      "metadata": {
        "id": "_5UU_KQohVQE",
        "colab_type": "code",
        "colab": {}
      },
      "source": [
        "from google.colab import drive\n",
        "drive.mount('/content/drive')\n"
      ],
      "execution_count": null,
      "outputs": []
    },
    {
      "cell_type": "code",
      "metadata": {
        "id": "c1Xc626rh2QH",
        "colab_type": "code",
        "colab": {}
      },
      "source": [
        "ls \"/content/drive/My Drive/Malaria Detection /test/\""
      ],
      "execution_count": null,
      "outputs": []
    },
    {
      "cell_type": "code",
      "metadata": {
        "id": "a3eQaWU7J33i",
        "colab_type": "code",
        "colab": {}
      },
      "source": [
        "from keras.models import load_model\n",
        "classifier = tf.keras.models.load_model('./basic_aug_cnn.h5')"
      ],
      "execution_count": null,
      "outputs": []
    },
    {
      "cell_type": "code",
      "metadata": {
        "id": "bdvg0AhjKC8x",
        "colab_type": "code",
        "colab": {}
      },
      "source": [
        "classifier.compile(optimizer='adam',\n",
        "                loss='binary_crossentropy',\n",
        "                metrics=['accuracy'])\n"
      ],
      "execution_count": null,
      "outputs": []
    },
    {
      "cell_type": "code",
      "metadata": {
        "id": "9UU-sXwRTh67",
        "colab_type": "code",
        "colab": {}
      },
      "source": [
        "import numpy as np\n",
        "from keras.preprocessing import image\n",
        "import numpy as np\n",
        "import cv2\n",
        "from google.colab import files\n",
        "from matplotlib import pyplot as plt\n",
        "from IPython.display import Image\n",
        "\n",
        "import os\n",
        "import glob\n",
        "import cv2\n",
        "\n",
        "img_dir = os.path.join('/content/drive/My Drive/Malaria Detection /test/')\n",
        "data_path = os.path.join(img_dir,'*g')\n",
        "files = glob.glob(data_path)\n",
        "images = []\n",
        "for f1 in files:\n",
        "  test_image = cv2.imread(f1)\n",
        "  new_width  = 125\n",
        "  new_height = 125\n",
        "  dimension= (new_width,new_height)\n",
        "  test_image = image.img_to_array(test_image)\n",
        "  test_image = np.expand_dims(test_image, axis = 0)\n",
        "  result = model.predict(test_image)  \n",
        "  print(result)"
      ],
      "execution_count": null,
      "outputs": []
    }
  ]
}